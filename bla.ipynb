{
 "cells": [
  {
   "cell_type": "code",
   "execution_count": 1,
   "metadata": {},
   "outputs": [],
   "source": [
    "from scipy.stats import ttest_rel\n",
    "import pandas as pd\n",
    "import numpy as np\n",
    "from scipy.stats import norm, wasserstein_distance\n",
    "from sklearn.metrics import mean_absolute_error, mean_squared_error\n",
    "import matplotlib.pyplot as plt"
   ]
  },
  {
   "cell_type": "code",
   "execution_count": 2,
   "metadata": {},
   "outputs": [],
   "source": [
    "df = pd.read_csv('storm_data.csv', index_col=0)\n",
    "bs_col = \"BS_V_prime\"\n",
    "model_col = \"V_prime\"\n",
    "market_col = \"opt_price_prime\""
   ]
  },
  {
   "cell_type": "code",
   "execution_count": 3,
   "metadata": {},
   "outputs": [
    {
     "data": {
      "text/plain": [
       "array(['BB', 'GME', 'JPM'], dtype=object)"
      ]
     },
     "execution_count": 3,
     "metadata": {},
     "output_type": "execute_result"
    }
   ],
   "source": [
    "df[\"ticker\"].unique()"
   ]
  },
  {
   "cell_type": "code",
   "execution_count": null,
   "metadata": {},
   "outputs": [],
   "source": [
    "df[\"date\"].min(), df[\"date\"].max()"
   ]
  },
  {
   "cell_type": "code",
   "execution_count": null,
   "metadata": {},
   "outputs": [],
   "source": [
    "# 1. Pricing Accuracy Analysis\n",
    "# Calculate normalized pricing errors\n",
    "df['BS_error'] = (df[market_col] - df[bs_col])**2\n",
    "df['model_error'] = (df[market_col] - df[model_col])**2\n",
    "df[\"moneyness\"] = df[\"S\"] - df[\"K\"]\n",
    "\n",
    "df[[bs_col, model_col, market_col]].describe()\n"
   ]
  },
  {
   "cell_type": "code",
   "execution_count": null,
   "metadata": {},
   "outputs": [],
   "source": [
    "df.shape[0], df.loc[df[\"moneyness\"] > 0].shape[0], df.loc[df[\"moneyness\"] > 0].shape[0]/df.shape[0]"
   ]
  },
  {
   "cell_type": "code",
   "execution_count": null,
   "metadata": {},
   "outputs": [],
   "source": [
    "for moneyness in [\"BOTH\", \"ITM\", \"OTM\"]:\n",
    "    sub_df = df.copy()\n",
    "    if moneyness == \"ITM\":\n",
    "        sub_df = sub_df.loc[sub_df[\"moneyness\"] > 0]\n",
    "    elif moneyness == \"OTM\":\n",
    "        sub_df = sub_df.loc[sub_df[\"moneyness\"] < 0]\n",
    "    print(f\"Pricing Performance for moneyness {moneyness}:\")\n",
    "    print(f\"BS RMSE: {np.sqrt((sub_df['BS_error']).mean()):.6f}\")\n",
    "    print(f\"Model RMSE: {np.sqrt((sub_df['model_error']).mean()):.6f}\")\n",
    "    print(f\"% imporvement: {100*(np.sqrt((sub_df['BS_error']).mean()) - np.sqrt((sub_df['model_error']).mean()))/np.sqrt((sub_df['BS_error']).mean()):.2f}%\\n\")"
   ]
  },
  {
   "cell_type": "code",
   "execution_count": null,
   "metadata": {},
   "outputs": [],
   "source": [
    "for ticker in df[\"ticker\"].unique():\n",
    "    sub_df = df.loc[df[\"ticker\"] == ticker]\n",
    "    print(f\"Pricing Performance for {ticker}:\")\n",
    "    print(f\"BS RMSE: {np.sqrt((sub_df['BS_error']).mean()):.6f}\")\n",
    "    print(f\"Model RMSE: {np.sqrt((sub_df['model_error']).mean()):.6f}\")\n",
    "    print(f\"% imporvement: {100*(np.sqrt((sub_df['BS_error']).mean()) - np.sqrt((sub_df['model_error']).mean()))/np.sqrt((sub_df['BS_error']).mean()):.2f}%\\n\")"
   ]
  },
  {
   "cell_type": "code",
   "execution_count": null,
   "metadata": {},
   "outputs": [],
   "source": [
    "plt.figure(figsize=(10, 5))\n",
    "plt.hist(np.sqrt((df['model_error'])), bins=100, alpha=0.5, label='Model', density=True)\n",
    "plt.hist(np.sqrt((df['BS_error'])), bins=100, alpha=0.5, label='BS', density=True)\n",
    "plt.legend()\n",
    "plt.title(\"Pricing Errors\")\n",
    "plt.show()"
   ]
  },
  {
   "cell_type": "code",
   "execution_count": null,
   "metadata": {},
   "outputs": [],
   "source": [
    "for moneyness in [\"BOTH\", \"ITM\", \"OTM\"]:\n",
    "    sub_df = df.copy()\n",
    "    if moneyness == \"ITM\":\n",
    "        sub_df = sub_df.loc[sub_df[\"moneyness\"] > 0]\n",
    "    elif moneyness == \"OTM\":\n",
    "        sub_df = sub_df.loc[sub_df[\"moneyness\"] < 0]\n",
    "    \n",
    "    print(f\"Correlation for moneyness {moneyness}:\") \n",
    "    print(f\"Market vs Model: {sub_df[model_col].corr(sub_df[market_col]):.6f}\")\n",
    "    print(f\"Market vs BS: {sub_df[bs_col].corr(sub_df[market_col]):.6f}\")\n",
    "    print(f\"Model vs BS: {sub_df[model_col].corr(sub_df[bs_col]):.6f}\\n\")"
   ]
  },
  {
   "cell_type": "code",
   "execution_count": null,
   "metadata": {},
   "outputs": [],
   "source": [
    "# check wasserstein distance\n",
    "for moneyness in [\"BOTH\", \"ITM\", \"OTM\"]:\n",
    "    sub_df = df.copy()\n",
    "    if moneyness == \"ITM\":\n",
    "        sub_df = sub_df.loc[sub_df[\"moneyness\"] > 0]\n",
    "    elif moneyness == \"OTM\":\n",
    "        sub_df = sub_df.loc[sub_df[\"moneyness\"] < 0]\n",
    "    model_wasserstein = wasserstein_distance(sub_df[model_col], sub_df[market_col])\n",
    "    bs_wasserstein = wasserstein_distance(sub_df[bs_col], sub_df[market_col])\n",
    "    print(f\"\\nWasserstein Distance for Moneyness {moneyness}:\")\n",
    "    print(f\"Model: {model_wasserstein:.6f}\")\n",
    "    print(f\"BS: {bs_wasserstein:.6f}\")\n",
    "    print(f\"% improvement: {100*(bs_wasserstein - model_wasserstein)/bs_wasserstein:.2f}%\")"
   ]
  },
  {
   "cell_type": "code",
   "execution_count": null,
   "metadata": {},
   "outputs": [],
   "source": [
    "for ticker in df[\"ticker\"].unique():\n",
    "    sub_df = df.loc[df[\"ticker\"] == ticker]\n",
    "    print(f\"Wasserstein Distance for {ticker}:\")\n",
    "    model_wasserstein = wasserstein_distance(sub_df[model_col], sub_df[market_col])\n",
    "    bs_wasserstein = wasserstein_distance(sub_df[bs_col], sub_df[market_col])\n",
    "    print(f\"Model: {model_wasserstein:.6f}\")\n",
    "    print(f\"BS: {bs_wasserstein:.6f}\")\n",
    "    print(f\"% improvement: {100*(bs_wasserstein - model_wasserstein)/bs_wasserstein:.2f}%\\n\")\n",
    "    "
   ]
  },
  {
   "cell_type": "code",
   "execution_count": null,
   "metadata": {},
   "outputs": [],
   "source": [
    "df[[\"moneyness\", \"opt_price\", \"BS_error\", \"model_error\"]].corr()"
   ]
  },
  {
   "cell_type": "code",
   "execution_count": null,
   "metadata": {},
   "outputs": [],
   "source": []
  }
 ],
 "metadata": {
  "kernelspec": {
   "display_name": "opt-price",
   "language": "python",
   "name": "python3"
  },
  "language_info": {
   "codemirror_mode": {
    "name": "ipython",
    "version": 3
   },
   "file_extension": ".py",
   "mimetype": "text/x-python",
   "name": "python",
   "nbconvert_exporter": "python",
   "pygments_lexer": "ipython3",
   "version": "3.11.11"
  }
 },
 "nbformat": 4,
 "nbformat_minor": 2
}
